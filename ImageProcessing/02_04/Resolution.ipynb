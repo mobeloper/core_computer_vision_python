{
 "cells": [
  {
   "cell_type": "markdown",
   "id": "d8093542",
   "metadata": {},
   "source": [
    "# Resolution\n",
    "\n",
    "The resolution of an image is its level of detail, or in other words, its pixel density.\n",
    "The same picture can be created as a 60 x 40, a 300 x 200, or a 600 x 400 pixel array.\n",
    "A bigger image is suitable for printing on a larger area, but it requires more computational power to process.\n",
    "\n",
    "Let's see the same image at several resolutions. "
   ]
  },
  {
   "cell_type": "code",
   "execution_count": null,
   "id": "82c3443d",
   "metadata": {},
   "outputs": [],
   "source": [
    "# Let's open 3 JPEG image files with different resolutions \n",
    "\n",
    "import numpy as np\n",
    "import matplotlib.pyplot as plt\n",
    "%config InlineBackend.figure_formats = 'retina'\n",
    "from matplotlib import rcParams\n",
    "\n",
    "plt.rcParams['figure.figsize'] = (10, 8) # (Width, Height) supposedly in inches\n",
    "\n",
    "img1 = plt.imread('dog800x600.jpg')\n",
    "\n",
    "plt.imshow(img1)"
   ]
  },
  {
   "cell_type": "code",
   "execution_count": null,
   "id": "03cb72aa-6416-4f39-8e44-3505b4fc71cc",
   "metadata": {},
   "outputs": [],
   "source": [
    "img2 = plt.imread('dog300x225.jpg')\n",
    "plt.imshow(img2)"
   ]
  },
  {
   "cell_type": "code",
   "execution_count": null,
   "id": "d18d0113",
   "metadata": {},
   "outputs": [],
   "source": [
    "img3 = plt.imread('dog120x90.jpg')\n",
    "plt.imshow(img3)"
   ]
  },
  {
   "cell_type": "code",
   "execution_count": null,
   "id": "2481f8dc-bc0b-413a-94c8-4cab9c72c25b",
   "metadata": {},
   "outputs": [],
   "source": [
    "plt.rcParams['figure.figsize'] = (1, 1) # (Width, Height) supposedly in inches\n",
    "plt.imshow(img3)"
   ]
  }
 ],
 "metadata": {
  "kernelspec": {
   "display_name": "Python 3 (ipykernel)",
   "language": "python",
   "name": "python3"
  },
  "language_info": {
   "codemirror_mode": {
    "name": "ipython",
    "version": 3
   },
   "file_extension": ".py",
   "mimetype": "text/x-python",
   "name": "python",
   "nbconvert_exporter": "python",
   "pygments_lexer": "ipython3",
   "version": "3.9.12"
  }
 },
 "nbformat": 4,
 "nbformat_minor": 5
}
