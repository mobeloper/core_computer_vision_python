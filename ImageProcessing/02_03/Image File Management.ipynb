{
 "cells": [
  {
   "cell_type": "markdown",
   "id": "d8093542",
   "metadata": {},
   "source": [
    "# Image File Management\n",
    "\n",
    "Opening image files and saving images into files are the start and finish of image processing, and there are several subtleties you must be aware of.\n",
    "\n",
    "Let's handle some image files. "
   ]
  },
  {
   "cell_type": "code",
   "execution_count": null,
   "id": "82c3443d",
   "metadata": {},
   "outputs": [],
   "source": [
    "# Let's open a JPEG image file using the pyplot.imread function.\n",
    "\n",
    "import numpy as np\n",
    "import matplotlib.pyplot as plt\n",
    "%config InlineBackend.figure_formats = 'retina'\n",
    "\n",
    "jpeg = plt.imread('stickanimals.jpg')\n",
    "plt.imshow(jpeg)\n"
   ]
  },
  {
   "cell_type": "code",
   "execution_count": null,
   "id": "8d7ca791",
   "metadata": {
    "tags": []
   },
   "outputs": [],
   "source": [
    "# Now let's open an equivalent PNG image file\n",
    "\n",
    "png = plt.imread('stickanimalsRGBA.png')\n",
    "plt.imshow(png)"
   ]
  },
  {
   "cell_type": "code",
   "execution_count": null,
   "id": "d18d0113",
   "metadata": {},
   "outputs": [],
   "source": [
    "# Let's see their dimensions\n",
    "\n",
    "print(np.shape(jpeg))\n",
    "print(np.shape(png))\n"
   ]
  },
  {
   "cell_type": "code",
   "execution_count": null,
   "id": "7a4818b1-c816-471f-ae7f-b53c83248d63",
   "metadata": {},
   "outputs": [],
   "source": [
    "# Let's see their upper left pixel\n",
    "\n",
    "print(jpeg[0,0])\n",
    "print(png[0,0])"
   ]
  },
  {
   "cell_type": "code",
   "execution_count": null,
   "id": "8eef350c",
   "metadata": {},
   "outputs": [],
   "source": [
    "# Now let's see their data type\n",
    "\n",
    "print('JPEG image type: ', type(jpeg[0,0,0]))\n",
    "print('PNG image type: ', type(png[0,0,0]))\n"
   ]
  },
  {
   "cell_type": "code",
   "execution_count": null,
   "id": "3ae96be5",
   "metadata": {},
   "outputs": [],
   "source": [
    "# To convert an RGBA image array that represents data with floating \n",
    "# point numbers from 0 to 1 into the RGB integer format from 0 to 255, \n",
    "# we need to change 4 things:\n",
    "\n",
    "# 1) Get rid of the A channel\n",
    "# 2) Multiply by 255\n",
    "# 3) Round the resulting values\n",
    "# 4) Ensure values are between 0 and 255\n",
    "# 5) Convert data to 8-bit integers\n",
    "\n",
    "# Let's define a function for this:\n",
    "\n",
    "def adapt_PNG(the_PNG):\n",
    "    the_PNG = the_PNG[:,:,:3]      # Step 1\n",
    "    the_PNG = the_PNG * 255        # Step 2\n",
    "    the_PNG = adapt_image(the_PNG) # Steps 3, 4, 5\n",
    "    return the_PNG\n",
    "\n",
    "\n",
    "# The following function will be useful to perform steps 3, 4, and 5 \n",
    "# for RGB images in the 0-255 range, which are undergoing operations \n",
    "# that may result in floating point numbers.\n",
    "\n",
    "def adapt_image(the_img):\n",
    "    return np.uint8(np.clip(the_img.round(),0,255)) # Steps 3, 4, 5\n",
    "\n"
   ]
  },
  {
   "cell_type": "code",
   "execution_count": null,
   "id": "8dab34e5",
   "metadata": {},
   "outputs": [],
   "source": [
    "# So from now on, when opening PNG files for these exercises, \n",
    "# you may use the adapt_PNG function from EC_CV like this:\n",
    "\n",
    "from EC_CV import *\n",
    "\n",
    "img = adapt_PNG(plt.imread(\"stickanimalsRGBA.png\"))\n",
    "\n",
    "print('PNG image data type: ', type(img[0,0,0]))\n",
    "print(img[0,0])\n",
    "plt.imshow(img)"
   ]
  },
  {
   "cell_type": "code",
   "execution_count": null,
   "id": "8d08baae-dab1-43a7-9795-8e1be3845bc1",
   "metadata": {},
   "outputs": [],
   "source": [
    "# Lastly, let's save a file.\n",
    "# This time let's extract the horse as a subarray.\n",
    "\n",
    "horsie = img[250:600,200:400,:]\n",
    "plt.imsave('horsie.jpg',horsie)"
   ]
  }
 ],
 "metadata": {
  "kernelspec": {
   "display_name": "Python 3 (ipykernel)",
   "language": "python",
   "name": "python3"
  },
  "language_info": {
   "codemirror_mode": {
    "name": "ipython",
    "version": 3
   },
   "file_extension": ".py",
   "mimetype": "text/x-python",
   "name": "python",
   "nbconvert_exporter": "python",
   "pygments_lexer": "ipython3",
   "version": "3.9.12"
  }
 },
 "nbformat": 4,
 "nbformat_minor": 5
}
