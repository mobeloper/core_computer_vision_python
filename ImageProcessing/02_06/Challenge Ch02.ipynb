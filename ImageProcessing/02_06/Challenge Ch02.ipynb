{
 "cells": [
  {
   "cell_type": "markdown",
   "id": "d8093542",
   "metadata": {},
   "source": [
    "# Manipulate Some Pictures\n",
    "\n",
    "Complete the following tasks to manipulate 3 pictures."
   ]
  },
  {
   "cell_type": "code",
   "execution_count": null,
   "id": "82c3443d",
   "metadata": {},
   "outputs": [],
   "source": [
    "# Run this cell to open 3 images.\n",
    "# Don't modify this cell.\n",
    "\n",
    "import numpy as np\n",
    "import matplotlib.pyplot as plt\n",
    "from EC_CV import *\n",
    "%config InlineBackend.figure_formats = 'retina'\n",
    "\n",
    "# We'll work with 1 JPEG and 2 PNGs\n",
    "traffic  = plt.imread('traffic.jpg')\n",
    "penguins = plt.imread('penguins.png')\n",
    "icepops  = plt.imread('icepops.png')\n"
   ]
  },
  {
   "cell_type": "code",
   "execution_count": null,
   "id": "8d7ca791",
   "metadata": {},
   "outputs": [],
   "source": [
    "# Task #1: Find the RGBA file\n",
    "#\n",
    "# One of these images is a JPEG file, and the other two are PNGs. \n",
    "# One of the PNGs is encoded as RGB, and the other as RGBA.\n",
    "# Identify the PNG file that's encoded as RGBA.\n",
    "# You may do this any way you want: Get the dimensions, print a pixel, etc.\n",
    "\n",
    "# Write your code here\n"
   ]
  },
  {
   "cell_type": "code",
   "execution_count": null,
   "id": "be2684c2-b7f9-4f6d-a7b3-64df8016bd28",
   "metadata": {},
   "outputs": [],
   "source": [
    "# Task #2: Convert the images to an 8-bit unsigned integer RGB encoding\n",
    "#\n",
    "# Depending on each image, the type of its values may be a floating-point \n",
    "# number or an integer. \n",
    "# Since we want to work with 8-bit RGB, we need to make sure all our\n",
    "# arrays are encoded that way.\n",
    "# Feel free to use the functions in the EC_CV.py source file (imported above).\n",
    "\n",
    "# Write your code here\n"
   ]
  },
  {
   "cell_type": "code",
   "execution_count": null,
   "id": "d18d0113",
   "metadata": {},
   "outputs": [],
   "source": [
    "# Task #3 (3 cells): Print the images\n",
    "#\n",
    "# In this cell, display traffic, showing its axes\n",
    "\n",
    "# Write your code here\n"
   ]
  },
  {
   "cell_type": "code",
   "execution_count": null,
   "id": "240c287d-ecf8-48c9-b5d8-9aa5dd126caf",
   "metadata": {},
   "outputs": [],
   "source": [
    "# In this cell, display penguins, hiding its axes\n",
    "\n",
    "# Write your code here\n"
   ]
  },
  {
   "cell_type": "code",
   "execution_count": null,
   "id": "e4c2ca62-53ca-4c87-bdbc-7b5f41f393d6",
   "metadata": {},
   "outputs": [],
   "source": [
    "# In this cell, display icepops, hiding its axes\n",
    "\n",
    "# Write your code here\n"
   ]
  },
  {
   "cell_type": "code",
   "execution_count": null,
   "id": "5da5571f-8393-4507-8826-b5fa6b773fdf",
   "metadata": {},
   "outputs": [],
   "source": [
    "# Task #4 (3 cells): Manipulate the images\n",
    "#\n",
    "# In this cell, flip traffic horizontally (mirror image)\n",
    "# and display the resulting image\n",
    "\n",
    "# Write your code here\n"
   ]
  },
  {
   "cell_type": "code",
   "execution_count": null,
   "id": "d987c52f-202f-49a4-81a4-8f8d56ddeaa8",
   "metadata": {},
   "outputs": [],
   "source": [
    "# In this cell, rotate penguins 90 degrees clockwise\n",
    "# and display the resulting image.\n",
    "#\n",
    "# This rotation means -90 degrees, or +270 degrees.\n",
    "\n",
    "# Write your code here\n"
   ]
  },
  {
   "cell_type": "code",
   "execution_count": null,
   "id": "da3d30e5-2b8b-4ef7-9d49-e2d82c29d3bc",
   "metadata": {},
   "outputs": [],
   "source": [
    "# Lastly, let's multiply icepops by 2\n",
    "# \n",
    "# Don't modify this cell, just run it. \n",
    "# Then, run the next cell 10 times.\n",
    "\n",
    "# If you lose count, or you need to run the experiment again, \n",
    "# you may rerun this cell to reset img to icepops.\n",
    "\n",
    "img = icepops"
   ]
  },
  {
   "cell_type": "code",
   "execution_count": null,
   "id": "37afd021-ec5a-48dd-8286-b5747eb23907",
   "metadata": {},
   "outputs": [],
   "source": [
    "# Run this cell 10 times and see what happens each time.\n",
    "# Don't modify this cell, just run it. \n",
    "\n",
    "img *= 2 \n",
    "plt.axis('off')\n",
    "plt.imshow(img)"
   ]
  },
  {
   "cell_type": "markdown",
   "id": "d6d5410d-622a-4ede-9625-5e09d80bbed9",
   "metadata": {},
   "source": [
    "## Can you explain what happened?"
   ]
  }
 ],
 "metadata": {
  "kernelspec": {
   "display_name": "Python 3 (ipykernel)",
   "language": "python",
   "name": "python3"
  },
  "language_info": {
   "codemirror_mode": {
    "name": "ipython",
    "version": 3
   },
   "file_extension": ".py",
   "mimetype": "text/x-python",
   "name": "python",
   "nbconvert_exporter": "python",
   "pygments_lexer": "ipython3",
   "version": "3.9.12"
  }
 },
 "nbformat": 4,
 "nbformat_minor": 5
}
