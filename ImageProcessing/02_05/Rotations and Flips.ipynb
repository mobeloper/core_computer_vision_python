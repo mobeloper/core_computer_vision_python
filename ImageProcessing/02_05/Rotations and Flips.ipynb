{
 "cells": [
  {
   "cell_type": "markdown",
   "id": "d8093542",
   "metadata": {},
   "source": [
    "# Rotations and Flips\n",
    "\n",
    "Rotating images at right angles involves transposing the rows and columns, and sometimes inverting the order of the pixels in the rows or columns.\n",
    "\n",
    "Flips only involve inverting the order of pixels in rows or columns.\n",
    "\n",
    "NumPy supports these operations for images, rotating and flipping pixels, without changing the order of the pixel data (RGB)."
   ]
  },
  {
   "cell_type": "code",
   "execution_count": null,
   "id": "82c3443d",
   "metadata": {},
   "outputs": [],
   "source": [
    "# Let's open a picture and display it without the axes\n",
    "\n",
    "import numpy as np\n",
    "import matplotlib.pyplot as plt\n",
    "%config InlineBackend.figure_formats = 'retina'\n",
    "\n",
    "img = plt.imread('street.jpg')\n",
    "plt.axis(\"off\")\n",
    "plt.imshow(img)"
   ]
  },
  {
   "cell_type": "code",
   "execution_count": null,
   "id": "8d7ca791",
   "metadata": {},
   "outputs": [],
   "source": [
    "# Now let's rotate it 90 degrees counter clockwise\n",
    "\n",
    "img = np.rot90(img,1)\n",
    "plt.axis(\"off\")\n",
    "plt.imshow(img)"
   ]
  },
  {
   "cell_type": "code",
   "execution_count": null,
   "id": "be2684c2-b7f9-4f6d-a7b3-64df8016bd28",
   "metadata": {},
   "outputs": [],
   "source": [
    "# Now let's rotate it 90 degrees 3 times at once\n",
    "\n",
    "img = np.rot90(img,3)\n",
    "plt.axis(\"off\")\n",
    "plt.imshow(img)"
   ]
  },
  {
   "cell_type": "code",
   "execution_count": null,
   "id": "d18d0113",
   "metadata": {},
   "outputs": [],
   "source": [
    "# Let's perform a horizontal flip (invert left and right).\n",
    "# This is how you would see the image reflected in a mirror.\n",
    "\n",
    "img = np.fliplr(img)\n",
    "plt.axis(\"off\")\n",
    "plt.imshow(img)"
   ]
  },
  {
   "cell_type": "code",
   "execution_count": null,
   "id": "240c287d-ecf8-48c9-b5d8-9aa5dd126caf",
   "metadata": {},
   "outputs": [],
   "source": [
    "# Now let's try a vertical flip (invert up and down)\n",
    "\n",
    "img = np.flipud(img)\n",
    "plt.axis(\"off\")\n",
    "plt.imshow(img)"
   ]
  }
 ],
 "metadata": {
  "kernelspec": {
   "display_name": "Python 3 (ipykernel)",
   "language": "python",
   "name": "python3"
  },
  "language_info": {
   "codemirror_mode": {
    "name": "ipython",
    "version": 3
   },
   "file_extension": ".py",
   "mimetype": "text/x-python",
   "name": "python",
   "nbconvert_exporter": "python",
   "pygments_lexer": "ipython3",
   "version": "3.9.12"
  }
 },
 "nbformat": 4,
 "nbformat_minor": 5
}
