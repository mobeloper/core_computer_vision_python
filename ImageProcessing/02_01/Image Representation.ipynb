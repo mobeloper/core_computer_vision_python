{
 "cells": [
  {
   "cell_type": "markdown",
   "id": "7881fc0c",
   "metadata": {},
   "source": [
    "# Image Representation\n",
    "Raster images are represented as matrices of pixels."
   ]
  },
  {
   "cell_type": "code",
   "execution_count": null,
   "id": "82c3443d",
   "metadata": {},
   "outputs": [],
   "source": [
    "# Let's create a simple 3x3 Grayscale image.\n",
    "# Each pixel is a number (0-255) representing intensity.\n",
    "\n",
    "import numpy as np\n",
    "import matplotlib.pyplot as plt\n",
    "%config InlineBackend.figure_formats = 'retina'\n",
    "\n",
    "img = np.array([[   0, 255,   0],   #   black,  white,     black\n",
    "                [  50, 200,  50],   #    dark,  light,      dark\n",
    "                [ 110, 127, 140]])  # mid-dark,   mid, mid-light\n",
    "\n",
    "plt.imshow(img, cmap='gray')"
   ]
  },
  {
   "cell_type": "code",
   "execution_count": null,
   "id": "05506918",
   "metadata": {},
   "outputs": [],
   "source": [
    "# This is how it looks in a text representation\n",
    "\n",
    "print(img)\n",
    "type(img[0,0])"
   ]
  },
  {
   "cell_type": "code",
   "execution_count": null,
   "id": "6e7152be",
   "metadata": {},
   "outputs": [],
   "source": [
    "# Now let's create a simple 3x3 RGB image.\n",
    "# This time each pixel is an [R,G,B] triad.\n",
    "\n",
    "img = np.array([[[255,   0,   0], [  0, 255,   0], [  0,   0, 255]],   #   red,   green,     blue\n",
    "                [[  0, 255, 255], [255,   0, 255], [255, 255,   0]],   #  cyan, magenta,   yellow\n",
    "                [[  0,   0,   0], [255, 255, 255], [127, 127, 127]]])  # black,   white, gray 50%\n",
    "plt.axis(\"off\")\n",
    "plt.imshow(img)"
   ]
  },
  {
   "cell_type": "code",
   "execution_count": null,
   "id": "c9798975",
   "metadata": {},
   "outputs": [],
   "source": [
    "# This is how it looks in a text representation\n",
    "\n",
    "print(img)\n",
    "type(img[0,0,0])"
   ]
  },
  {
   "cell_type": "code",
   "execution_count": null,
   "id": "69d1f8f1",
   "metadata": {},
   "outputs": [],
   "source": [
    "# Now let's create the same image with floating point numbers.\n",
    "\n",
    "img = np.array([[[1.0, 0.0, 0.0], [0.0, 1.0, 0.0], [0.0, 0.0, 1.0]],    #  red,   green,     blue\n",
    "                [[0.0, 1.0, 1.0], [1.0, 0.0, 1.0], [1.0, 1.0, 0.0]],    # cyan, magenta,   yellow\n",
    "                [[0.0, 0.0, 0.0], [1.0, 1.0, 1.0], [0.5, 0.5, 0.5]]])  # black,   white, gray 50%\n",
    "plt.imshow(img)"
   ]
  },
  {
   "cell_type": "code",
   "execution_count": null,
   "id": "7bca7b59",
   "metadata": {},
   "outputs": [],
   "source": [
    "# This is how it looks in a text representation\n",
    "\n",
    "print(img)\n",
    "type(img[0,0,0])"
   ]
  }
 ],
 "metadata": {
  "kernelspec": {
   "display_name": "Python 3 (ipykernel)",
   "language": "python",
   "name": "python3"
  },
  "language_info": {
   "codemirror_mode": {
    "name": "ipython",
    "version": 3
   },
   "file_extension": ".py",
   "mimetype": "text/x-python",
   "name": "python",
   "nbconvert_exporter": "python",
   "pygments_lexer": "ipython3",
   "version": "3.9.12"
  }
 },
 "nbformat": 4,
 "nbformat_minor": 5
}
