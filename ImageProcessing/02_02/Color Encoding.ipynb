{
 "cells": [
  {
   "cell_type": "markdown",
   "id": "d8093542",
   "metadata": {
    "tags": []
   },
   "source": [
    "# Color Encoding\n",
    "\n",
    "Color may be encoded in a variety of ways like RGB, RGBA, CMYK, or HSL. \n",
    "We'll use RGB encoding, where each pixel is represented as a vector with 3 channels: Red, Green, and Blue.\n",
    "RGB is usually encoded as a 24-bit bitmap, meaning that each pixel takes up 24 bits, or 3 bytes. Each byte represents a color channel, so every value must be an unsigned number between 0 and 255, where 0 means 0% intensity of its color, and 255 means 100% intensity.\n",
    "\n",
    "Let's play with some colors. "
   ]
  },
  {
   "cell_type": "code",
   "execution_count": null,
   "id": "82c3443d",
   "metadata": {},
   "outputs": [],
   "source": [
    "# First, let's create a simple 3x3 image\n",
    "\n",
    "import numpy as np\n",
    "import matplotlib.pyplot as plt\n",
    "%config InlineBackend.figure_formats = 'retina'\n",
    "\n",
    "img = np.array([[[255,   0,   0], [  0, 255,   0], [  0,   0, 255]],   #  red,   green,     blue\n",
    "                [[  0, 255, 255], [255,   0, 255], [255, 255,   0]],   # cyan, magenta,   yellow\n",
    "                [[  0,   0,   0], [255, 255, 255], [127, 127, 127]]])  #black,   white, gray 50%\n",
    "plt.axis(\"off\")\n",
    "plt.imshow(img)"
   ]
  },
  {
   "cell_type": "code",
   "execution_count": null,
   "id": "8eef350c",
   "metadata": {},
   "outputs": [],
   "source": [
    "# Let's change the lower left pixel from Black to Orange\n",
    "\n",
    "img[2,0,0] = 255 # Assign 100% to red\n",
    "img[2,0,1] = 200 # Assign about 80% to green\n",
    "\n",
    "plt.imshow(img[2:,:1]) # Show pixel at row 2 and column 0\n"
   ]
  },
  {
   "cell_type": "code",
   "execution_count": null,
   "id": "82f70b0b-5eab-4b28-86f9-c2c5078163ed",
   "metadata": {},
   "outputs": [],
   "source": [
    "# Let's display the whole image\n",
    "plt.imshow(img)"
   ]
  }
 ],
 "metadata": {
  "kernelspec": {
   "display_name": "Python 3 (ipykernel)",
   "language": "python",
   "name": "python3"
  },
  "language_info": {
   "codemirror_mode": {
    "name": "ipython",
    "version": 3
   },
   "file_extension": ".py",
   "mimetype": "text/x-python",
   "name": "python",
   "nbconvert_exporter": "python",
   "pygments_lexer": "ipython3",
   "version": "3.9.12"
  }
 },
 "nbformat": 4,
 "nbformat_minor": 5
}
