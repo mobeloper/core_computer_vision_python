{
 "cells": [
  {
   "cell_type": "markdown",
   "id": "5f0c4e4b",
   "metadata": {},
   "source": [
    "# Testing your Environment\n",
    "\n",
    "Try running the following cells to make sure you have correctly installed all the software you'll need throughout the course. \n",
    "\n",
    "The first and easiest element to check is Jupyter. If you're seeing a Jupyter Notebook in your browser, you have correctly installed Jupyter.\n"
   ]
  },
  {
   "cell_type": "code",
   "execution_count": null,
   "id": "b9169d3f",
   "metadata": {},
   "outputs": [],
   "source": [
    "# Now let's check your Python version\n",
    "\n",
    "import sys \n",
    "print(\"Python version\",sys.version)"
   ]
  },
  {
   "cell_type": "code",
   "execution_count": null,
   "id": "88f9d111",
   "metadata": {},
   "outputs": [],
   "source": [
    "# Now check your version of Numpy and create a matrix\n",
    "\n",
    "import numpy as np\n",
    "print(\"Numpy version\",np.version.version)\n",
    "m = np.array([[1,2],[3,4]])\n",
    "print(m)"
   ]
  },
  {
   "cell_type": "code",
   "execution_count": null,
   "id": "05f4acdd",
   "metadata": {},
   "outputs": [],
   "source": [
    "# Now let's try opening an image and displaying it with Matplotlib:\n",
    "\n",
    "import matplotlib.pyplot as plt\n",
    "%config InlineBackend.figure_formats = 'retina'\n",
    "\n",
    "img = plt.imread('komodo.jpg')\n",
    "plt.axis(\"off\")\n",
    "plt.imshow(img)"
   ]
  },
  {
   "cell_type": "code",
   "execution_count": null,
   "id": "be810c0b",
   "metadata": {},
   "outputs": [],
   "source": [
    "# Finally, let's open an image using OpenCV\n",
    "import cv2\n",
    "\n",
    "print(\"OpenCV version\",cv2.__version__)\n",
    "image = cv2.imread('komodo.jpg')\n",
    "cv2.imshow(\"OpenCV\", image)\n",
    "cv2.waitKey(0)\n",
    "cv2.destroyAllWindows()"
   ]
  },
  {
   "cell_type": "markdown",
   "id": "e1614df3",
   "metadata": {},
   "source": [
    "# You're good to go!"
   ]
  }
 ],
 "metadata": {
  "kernelspec": {
   "display_name": "Python 3 (ipykernel)",
   "language": "python",
   "name": "python3"
  },
  "language_info": {
   "codemirror_mode": {
    "name": "ipython",
    "version": 3
   },
   "file_extension": ".py",
   "mimetype": "text/x-python",
   "name": "python",
   "nbconvert_exporter": "python",
   "pygments_lexer": "ipython3",
   "version": "3.9.12"
  }
 },
 "nbformat": 4,
 "nbformat_minor": 5
}
